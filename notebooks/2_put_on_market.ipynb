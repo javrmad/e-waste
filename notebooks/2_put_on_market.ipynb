{
 "cells": [
  {
   "cell_type": "markdown",
   "metadata": {},
   "source": [
    "# 2. Put on market (POM) data\n",
    "\n",
    "This dataset includes the amount of electronic/electrical items put on the market (POM). POM data was extrapolated for the period 1980-1995, empirical data for the period 1996-2017, and forecasted from 2017 onwards (Source: https://github.com/Statistics-Netherlands/ewaste and Kees Balde @ United Nations University)\n",
    "\n",
    "Relevant variables include:\n",
    "\n",
    "1. **Country**: three-letter code of each country\n",
    "2. **UNU_Key**: keys referenced to electronic items description as defined by the United Nations University (UNU)\n",
    "3. **Year**: year for the POM entry\n",
    "4. **POM_t**: amount of a given electronic/electrical item put on the market, in tonnes \n",
    "5. **POM_pieces**: amount of a given electronic/electrical item put on the market, in pieces count\n",
    "6. **Inhabitants**: total population of a given country in a given year\n",
    "7. **kpi**: amount of a given electronic/electrical item put on the market per inhabitant, in kg per inhabitant\n",
    "8. **ppi**: amount of a given electronic/electrical item put on the market per inhabitant, in pieces per inhabitant\n",
    "\n",
    "\n",
    "A new data frame is created from the raw data. The relevant variables listed above are analyzed and cleaned when necessary. The columns are renamed to avoid conlficts with other data frames. The final data frame is finally saved into a csv file."
   ]
  },
  {
   "cell_type": "markdown",
   "metadata": {},
   "source": [
    "### Data loading and cleaning"
   ]
  },
  {
   "cell_type": "code",
   "execution_count": 1,
   "metadata": {},
   "outputs": [],
   "source": [
    "import pandas as pd\n",
    "import numpy as np"
   ]
  },
  {
   "cell_type": "code",
   "execution_count": 2,
   "metadata": {},
   "outputs": [],
   "source": [
    "# Import raw data\n",
    "\n",
    "pom = pd.read_csv(\"../data/raw/4_tbl_POM.csv\")"
   ]
  },
  {
   "cell_type": "code",
   "execution_count": 3,
   "metadata": {},
   "outputs": [],
   "source": [
    "# Transform column names into lower case for easier handling\n",
    "\n",
    "pom.columns = map(str.lower, pom.columns)"
   ]
  },
  {
   "cell_type": "code",
   "execution_count": 4,
   "metadata": {},
   "outputs": [],
   "source": [
    "# Rename kpi and ppi columns to avoid conflict with data for WEEE \n",
    "# (Waste Electrical & Electronic Equipment)\n",
    "\n",
    "pom = pom.rename(columns={\"unu_key\": \"eee_key\", \"kpi\": \"pom_kpi\", \"ppi\": \"pom_ppi\"})"
   ]
  },
  {
   "cell_type": "code",
   "execution_count": 5,
   "metadata": {},
   "outputs": [],
   "source": [
    "# Drop useless columns\n",
    "\n",
    "pom = pom.drop([\"stratum\", \"flag\"], axis=1)"
   ]
  },
  {
   "cell_type": "code",
   "execution_count": 6,
   "metadata": {},
   "outputs": [
    {
     "data": {
      "text/html": [
       "<div>\n",
       "<style scoped>\n",
       "    .dataframe tbody tr th:only-of-type {\n",
       "        vertical-align: middle;\n",
       "    }\n",
       "\n",
       "    .dataframe tbody tr th {\n",
       "        vertical-align: top;\n",
       "    }\n",
       "\n",
       "    .dataframe thead th {\n",
       "        text-align: right;\n",
       "    }\n",
       "</style>\n",
       "<table border=\"1\" class=\"dataframe\">\n",
       "  <thead>\n",
       "    <tr style=\"text-align: right;\">\n",
       "      <th></th>\n",
       "      <th>country</th>\n",
       "      <th>eee_key</th>\n",
       "      <th>year</th>\n",
       "      <th>pom_t</th>\n",
       "      <th>pom_pieces</th>\n",
       "      <th>inhabitants</th>\n",
       "      <th>pom_kpi</th>\n",
       "      <th>pom_ppi</th>\n",
       "    </tr>\n",
       "  </thead>\n",
       "  <tbody>\n",
       "    <tr>\n",
       "      <th>0</th>\n",
       "      <td>AUT</td>\n",
       "      <td>1</td>\n",
       "      <td>1980</td>\n",
       "      <td>2761.339647</td>\n",
       "      <td>89508.57849</td>\n",
       "      <td>7540000.0</td>\n",
       "      <td>0.366225</td>\n",
       "      <td>0.011871</td>\n",
       "    </tr>\n",
       "    <tr>\n",
       "      <th>1</th>\n",
       "      <td>AUT</td>\n",
       "      <td>1</td>\n",
       "      <td>1981</td>\n",
       "      <td>2898.970646</td>\n",
       "      <td>93969.87508</td>\n",
       "      <td>7556000.0</td>\n",
       "      <td>0.383665</td>\n",
       "      <td>0.012436</td>\n",
       "    </tr>\n",
       "    <tr>\n",
       "      <th>2</th>\n",
       "      <td>AUT</td>\n",
       "      <td>1</td>\n",
       "      <td>1982</td>\n",
       "      <td>3034.351975</td>\n",
       "      <td>98358.24880</td>\n",
       "      <td>7565000.0</td>\n",
       "      <td>0.401104</td>\n",
       "      <td>0.013002</td>\n",
       "    </tr>\n",
       "    <tr>\n",
       "      <th>3</th>\n",
       "      <td>AUT</td>\n",
       "      <td>1</td>\n",
       "      <td>1983</td>\n",
       "      <td>3157.072369</td>\n",
       "      <td>102336.21940</td>\n",
       "      <td>7543000.0</td>\n",
       "      <td>0.418543</td>\n",
       "      <td>0.013567</td>\n",
       "    </tr>\n",
       "    <tr>\n",
       "      <th>4</th>\n",
       "      <td>AUT</td>\n",
       "      <td>1</td>\n",
       "      <td>1984</td>\n",
       "      <td>3289.053034</td>\n",
       "      <td>106614.36090</td>\n",
       "      <td>7544000.0</td>\n",
       "      <td>0.435983</td>\n",
       "      <td>0.014132</td>\n",
       "    </tr>\n",
       "  </tbody>\n",
       "</table>\n",
       "</div>"
      ],
      "text/plain": [
       "  country  eee_key  year        pom_t    pom_pieces  inhabitants   pom_kpi  \\\n",
       "0     AUT        1  1980  2761.339647   89508.57849    7540000.0  0.366225   \n",
       "1     AUT        1  1981  2898.970646   93969.87508    7556000.0  0.383665   \n",
       "2     AUT        1  1982  3034.351975   98358.24880    7565000.0  0.401104   \n",
       "3     AUT        1  1983  3157.072369  102336.21940    7543000.0  0.418543   \n",
       "4     AUT        1  1984  3289.053034  106614.36090    7544000.0  0.435983   \n",
       "\n",
       "    pom_ppi  \n",
       "0  0.011871  \n",
       "1  0.012436  \n",
       "2  0.013002  \n",
       "3  0.013567  \n",
       "4  0.014132  "
      ]
     },
     "execution_count": 6,
     "metadata": {},
     "output_type": "execute_result"
    }
   ],
   "source": [
    "pom.head()"
   ]
  },
  {
   "cell_type": "code",
   "execution_count": 7,
   "metadata": {},
   "outputs": [
    {
     "data": {
      "text/plain": [
       "country         object\n",
       "eee_key          int64\n",
       "year             int64\n",
       "pom_t          float64\n",
       "pom_pieces     float64\n",
       "inhabitants    float64\n",
       "pom_kpi        float64\n",
       "pom_ppi        float64\n",
       "dtype: object"
      ]
     },
     "execution_count": 7,
     "metadata": {},
     "output_type": "execute_result"
    }
   ],
   "source": [
    "pom.dtypes"
   ]
  },
  {
   "cell_type": "code",
   "execution_count": 8,
   "metadata": {},
   "outputs": [],
   "source": [
    "# Transform unu_key and year to string object\n",
    "\n",
    "pom[\"eee_key\"] = pom[\"eee_key\"].astype(str)\n",
    "pom[\"year\"] = pom[\"year\"].astype(str)"
   ]
  },
  {
   "cell_type": "code",
   "execution_count": 9,
   "metadata": {},
   "outputs": [
    {
     "data": {
      "text/plain": [
       "country         object\n",
       "eee_key         object\n",
       "year            object\n",
       "pom_t          float64\n",
       "pom_pieces     float64\n",
       "inhabitants    float64\n",
       "pom_kpi        float64\n",
       "pom_ppi        float64\n",
       "dtype: object"
      ]
     },
     "execution_count": 9,
     "metadata": {},
     "output_type": "execute_result"
    }
   ],
   "source": [
    "pom.dtypes"
   ]
  },
  {
   "cell_type": "code",
   "execution_count": 10,
   "metadata": {},
   "outputs": [
    {
     "data": {
      "text/plain": [
       "country          0\n",
       "eee_key          0\n",
       "year             0\n",
       "pom_t          398\n",
       "pom_pieces     398\n",
       "inhabitants      0\n",
       "pom_kpi        398\n",
       "pom_ppi        398\n",
       "dtype: int64"
      ]
     },
     "execution_count": 10,
     "metadata": {},
     "output_type": "execute_result"
    }
   ],
   "source": [
    "# Check for missing values\n",
    "\n",
    "pom.isnull().sum()"
   ]
  },
  {
   "cell_type": "code",
   "execution_count": 11,
   "metadata": {},
   "outputs": [],
   "source": [
    "# there are 398 missing values in pom_t, pom_pieces, kpi and ppi"
   ]
  },
  {
   "cell_type": "code",
   "execution_count": 12,
   "metadata": {},
   "outputs": [
    {
     "data": {
      "text/plain": [
       "2    398\n",
       "Name: eee_key, dtype: int64"
      ]
     },
     "execution_count": 12,
     "metadata": {},
     "output_type": "execute_result"
    }
   ],
   "source": [
    "pom[pom[\"pom_ppi\"].isnull()][\"eee_key\"].value_counts()"
   ]
  },
  {
   "cell_type": "code",
   "execution_count": 13,
   "metadata": {},
   "outputs": [],
   "source": [
    "# checking the rows with missing values, we can see that the values \n",
    "# are missing for \"unu_key\" = 2 in the 4 columns"
   ]
  },
  {
   "cell_type": "code",
   "execution_count": 14,
   "metadata": {},
   "outputs": [
    {
     "data": {
      "text/plain": [
       "54"
      ]
     },
     "execution_count": 14,
     "metadata": {},
     "output_type": "execute_result"
    }
   ],
   "source": [
    "pom[\"eee_key\"].nunique()"
   ]
  },
  {
   "cell_type": "code",
   "execution_count": 15,
   "metadata": {},
   "outputs": [],
   "source": [
    "# There are 54 UNU_keys"
   ]
  },
  {
   "cell_type": "code",
   "execution_count": 16,
   "metadata": {},
   "outputs": [
    {
     "data": {
      "text/plain": [
       "28"
      ]
     },
     "execution_count": 16,
     "metadata": {},
     "output_type": "execute_result"
    }
   ],
   "source": [
    "pom[\"country\"].nunique()"
   ]
  },
  {
   "cell_type": "code",
   "execution_count": 17,
   "metadata": {},
   "outputs": [],
   "source": [
    "# There are 28 countries, which are the countries of the EU"
   ]
  },
  {
   "cell_type": "code",
   "execution_count": 18,
   "metadata": {},
   "outputs": [
    {
     "data": {
      "text/plain": [
       "FRA    2268\n",
       "EST    2268\n",
       "CZE    2268\n",
       "BEL    2268\n",
       "ITA    2268\n",
       "BGR    2268\n",
       "SVN    2268\n",
       "HRV    2268\n",
       "ROU    2268\n",
       "LTU    2268\n",
       "FIN    2268\n",
       "GRC    2268\n",
       "MLT    2268\n",
       "CYP    2268\n",
       "SVK    2268\n",
       "DEU    2268\n",
       "IRL    2268\n",
       "ESP    2268\n",
       "GBR    2268\n",
       "PRT    2268\n",
       "DNK    2268\n",
       "HUN    2268\n",
       "LUX    2268\n",
       "NLD    2268\n",
       "SWE    2268\n",
       "LVA    2268\n",
       "AUT    2268\n",
       "POL    2268\n",
       "Name: country, dtype: int64"
      ]
     },
     "execution_count": 18,
     "metadata": {},
     "output_type": "execute_result"
    }
   ],
   "source": [
    "# Verify the data for each country\n",
    "\n",
    "pd.Series(pom[\"country\"]).value_counts()"
   ]
  },
  {
   "cell_type": "code",
   "execution_count": 22,
   "metadata": {},
   "outputs": [
    {
     "data": {
      "text/html": [
       "<div>\n",
       "<style scoped>\n",
       "    .dataframe tbody tr th:only-of-type {\n",
       "        vertical-align: middle;\n",
       "    }\n",
       "\n",
       "    .dataframe tbody tr th {\n",
       "        vertical-align: top;\n",
       "    }\n",
       "\n",
       "    .dataframe thead th {\n",
       "        text-align: right;\n",
       "    }\n",
       "</style>\n",
       "<table border=\"1\" class=\"dataframe\">\n",
       "  <thead>\n",
       "    <tr style=\"text-align: right;\">\n",
       "      <th></th>\n",
       "      <th>country</th>\n",
       "      <th>eee_key</th>\n",
       "      <th>year</th>\n",
       "      <th>pom_t</th>\n",
       "      <th>pom_pieces</th>\n",
       "      <th>inhabitants</th>\n",
       "      <th>pom_kpi</th>\n",
       "      <th>pom_ppi</th>\n",
       "    </tr>\n",
       "  </thead>\n",
       "  <tbody>\n",
       "    <tr>\n",
       "      <th>0</th>\n",
       "      <td>AUT</td>\n",
       "      <td>1</td>\n",
       "      <td>1980</td>\n",
       "      <td>2761.339647</td>\n",
       "      <td>89508.578490</td>\n",
       "      <td>7540000.0</td>\n",
       "      <td>0.366225</td>\n",
       "      <td>0.011871</td>\n",
       "    </tr>\n",
       "    <tr>\n",
       "      <th>1</th>\n",
       "      <td>AUT</td>\n",
       "      <td>1</td>\n",
       "      <td>1981</td>\n",
       "      <td>2898.970646</td>\n",
       "      <td>93969.875080</td>\n",
       "      <td>7556000.0</td>\n",
       "      <td>0.383665</td>\n",
       "      <td>0.012436</td>\n",
       "    </tr>\n",
       "    <tr>\n",
       "      <th>2</th>\n",
       "      <td>AUT</td>\n",
       "      <td>1</td>\n",
       "      <td>1982</td>\n",
       "      <td>3034.351975</td>\n",
       "      <td>98358.248800</td>\n",
       "      <td>7565000.0</td>\n",
       "      <td>0.401104</td>\n",
       "      <td>0.013002</td>\n",
       "    </tr>\n",
       "    <tr>\n",
       "      <th>3</th>\n",
       "      <td>AUT</td>\n",
       "      <td>1</td>\n",
       "      <td>1983</td>\n",
       "      <td>3157.072369</td>\n",
       "      <td>102336.219400</td>\n",
       "      <td>7543000.0</td>\n",
       "      <td>0.418543</td>\n",
       "      <td>0.013567</td>\n",
       "    </tr>\n",
       "    <tr>\n",
       "      <th>4</th>\n",
       "      <td>AUT</td>\n",
       "      <td>1</td>\n",
       "      <td>1984</td>\n",
       "      <td>3289.053034</td>\n",
       "      <td>106614.360900</td>\n",
       "      <td>7544000.0</td>\n",
       "      <td>0.435983</td>\n",
       "      <td>0.014132</td>\n",
       "    </tr>\n",
       "    <tr>\n",
       "      <th>...</th>\n",
       "      <td>...</td>\n",
       "      <td>...</td>\n",
       "      <td>...</td>\n",
       "      <td>...</td>\n",
       "      <td>...</td>\n",
       "      <td>...</td>\n",
       "      <td>...</td>\n",
       "      <td>...</td>\n",
       "    </tr>\n",
       "    <tr>\n",
       "      <th>63499</th>\n",
       "      <td>SWE</td>\n",
       "      <td>1002</td>\n",
       "      <td>2017</td>\n",
       "      <td>62.595063</td>\n",
       "      <td>678.757999</td>\n",
       "      <td>10177000.0</td>\n",
       "      <td>0.006151</td>\n",
       "      <td>0.000067</td>\n",
       "    </tr>\n",
       "    <tr>\n",
       "      <th>63500</th>\n",
       "      <td>SWE</td>\n",
       "      <td>1002</td>\n",
       "      <td>2018</td>\n",
       "      <td>65.937837</td>\n",
       "      <td>715.005818</td>\n",
       "      <td>10297000.0</td>\n",
       "      <td>0.006404</td>\n",
       "      <td>0.000069</td>\n",
       "    </tr>\n",
       "    <tr>\n",
       "      <th>63501</th>\n",
       "      <td>SWE</td>\n",
       "      <td>1002</td>\n",
       "      <td>2019</td>\n",
       "      <td>69.284121</td>\n",
       "      <td>751.291707</td>\n",
       "      <td>10404000.0</td>\n",
       "      <td>0.006659</td>\n",
       "      <td>0.000072</td>\n",
       "    </tr>\n",
       "    <tr>\n",
       "      <th>63502</th>\n",
       "      <td>SWE</td>\n",
       "      <td>1002</td>\n",
       "      <td>2020</td>\n",
       "      <td>72.596441</td>\n",
       "      <td>787.209292</td>\n",
       "      <td>10510000.0</td>\n",
       "      <td>0.006907</td>\n",
       "      <td>0.000075</td>\n",
       "    </tr>\n",
       "    <tr>\n",
       "      <th>63503</th>\n",
       "      <td>SWE</td>\n",
       "      <td>1002</td>\n",
       "      <td>2021</td>\n",
       "      <td>76.060967</td>\n",
       "      <td>824.777353</td>\n",
       "      <td>10613000.0</td>\n",
       "      <td>0.007167</td>\n",
       "      <td>0.000078</td>\n",
       "    </tr>\n",
       "  </tbody>\n",
       "</table>\n",
       "<p>63504 rows × 8 columns</p>\n",
       "</div>"
      ],
      "text/plain": [
       "      country eee_key  year        pom_t     pom_pieces  inhabitants  \\\n",
       "0         AUT       1  1980  2761.339647   89508.578490    7540000.0   \n",
       "1         AUT       1  1981  2898.970646   93969.875080    7556000.0   \n",
       "2         AUT       1  1982  3034.351975   98358.248800    7565000.0   \n",
       "3         AUT       1  1983  3157.072369  102336.219400    7543000.0   \n",
       "4         AUT       1  1984  3289.053034  106614.360900    7544000.0   \n",
       "...       ...     ...   ...          ...            ...          ...   \n",
       "63499     SWE    1002  2017    62.595063     678.757999   10177000.0   \n",
       "63500     SWE    1002  2018    65.937837     715.005818   10297000.0   \n",
       "63501     SWE    1002  2019    69.284121     751.291707   10404000.0   \n",
       "63502     SWE    1002  2020    72.596441     787.209292   10510000.0   \n",
       "63503     SWE    1002  2021    76.060967     824.777353   10613000.0   \n",
       "\n",
       "        pom_kpi   pom_ppi  \n",
       "0      0.366225  0.011871  \n",
       "1      0.383665  0.012436  \n",
       "2      0.401104  0.013002  \n",
       "3      0.418543  0.013567  \n",
       "4      0.435983  0.014132  \n",
       "...         ...       ...  \n",
       "63499  0.006151  0.000067  \n",
       "63500  0.006404  0.000069  \n",
       "63501  0.006659  0.000072  \n",
       "63502  0.006907  0.000075  \n",
       "63503  0.007167  0.000078  \n",
       "\n",
       "[63504 rows x 8 columns]"
      ]
     },
     "execution_count": 22,
     "metadata": {},
     "output_type": "execute_result"
    }
   ],
   "source": [
    "pom"
   ]
  },
  {
   "cell_type": "code",
   "execution_count": 20,
   "metadata": {},
   "outputs": [],
   "source": [
    "# Save the data frame to a csv file\n",
    "\n",
    "pom.to_csv(\"../Data/clean_data/2_put_on_market.csv\", index=False)"
   ]
  },
  {
   "cell_type": "code",
   "execution_count": 21,
   "metadata": {},
   "outputs": [
    {
     "data": {
      "text/plain": [
       "country         object\n",
       "eee_key         object\n",
       "year            object\n",
       "pom_t          float64\n",
       "pom_pieces     float64\n",
       "inhabitants    float64\n",
       "pom_kpi        float64\n",
       "pom_ppi        float64\n",
       "dtype: object"
      ]
     },
     "execution_count": 21,
     "metadata": {},
     "output_type": "execute_result"
    }
   ],
   "source": [
    "pom.dtypes"
   ]
  }
 ],
 "metadata": {
  "kernelspec": {
   "display_name": "Python 3",
   "language": "python",
   "name": "python3"
  },
  "language_info": {
   "codemirror_mode": {
    "name": "ipython",
    "version": 3
   },
   "file_extension": ".py",
   "mimetype": "text/x-python",
   "name": "python",
   "nbconvert_exporter": "python",
   "pygments_lexer": "ipython3",
   "version": "3.8.2"
  }
 },
 "nbformat": 4,
 "nbformat_minor": 4
}
