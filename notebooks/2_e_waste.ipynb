{
 "cells": [
  {
   "cell_type": "markdown",
   "metadata": {},
   "source": [
    "# 2. e-waste data\n",
    "\n",
    "This dataset includes the amount of electronic/electrical equipment waste. (Source: https://github.com/Statistics-Netherlands/ewaste) Waste Electrical & Electronic Equipment (WEEE) will be referred as ***e-waste*** for simplicity. \n",
    "\n",
    "Relevant variables include:\n",
    "\n",
    "1. **Country**: three-letter code of each country\n",
    "2. **UNU_Key**: keys referenced to electronic items description as defined by the United Nations University (UNU)\n",
    "3. **Year**: year for the e-waste entry\n",
    "4. **WEEE_t**: amount of e-waste generated in the country, in tonnes \n",
    "5. **WEEE_pieces**: amount of e-waste generated in the country, in pieces count\n",
    "6. **Inhabitants**: total population of a given country in a given year\n",
    "7. **kpi**: amount of e-waste per inhabitant, in kg per inhabitant\n",
    "8. **ppi**: amount of e-waste per inhabitant, in pieces per inhabitant\n",
    "\n",
    "\n",
    "A new data frame is created from the raw data. The relevant variables listed above are analyzed and cleaned when necessary. The columns are renamed to avoid conlficts with other data frames. The final data frame is finally saved into a csv file."
   ]
  },
  {
   "cell_type": "markdown",
   "metadata": {},
   "source": [
    "### Data loading and cleaning"
   ]
  },
  {
   "cell_type": "code",
   "execution_count": 1,
   "metadata": {},
   "outputs": [],
   "source": [
    "import pandas as pd\n",
    "import numpy as np"
   ]
  },
  {
   "cell_type": "markdown",
   "metadata": {},
   "source": [
    "#### 1. e-waste in Europe \n",
    "In detail, from 1980 to 2021."
   ]
  },
  {
   "cell_type": "code",
   "execution_count": 2,
   "metadata": {},
   "outputs": [],
   "source": [
    "# Import raw data\n",
    "\n",
    "ewaste = pd.read_csv(\"../data/raw/2_tbl_WEEE.csv\")"
   ]
  },
  {
   "cell_type": "code",
   "execution_count": 3,
   "metadata": {},
   "outputs": [],
   "source": [
    "# Transform column names into lower case for easier handling\n",
    "\n",
    "ewaste.columns = map(str.lower, ewaste.columns)"
   ]
  },
  {
   "cell_type": "code",
   "execution_count": 4,
   "metadata": {},
   "outputs": [],
   "source": [
    "# Rename kpi and ppi columns to avoid conflict with data for POM\n",
    "\n",
    "ewaste = ewaste.rename(columns={\"unu_key\": \"eee_key\",\n",
    "                                \"weee_t\": \"ewaste_t\",\n",
    "                                \"weee_pieces\": \"ewaste_pieces\",\n",
    "                                \"kpi\": \"ewaste_kpi\", \n",
    "                                \"ppi\": \"ewaste_ppi\"})"
   ]
  },
  {
   "cell_type": "code",
   "execution_count": 5,
   "metadata": {},
   "outputs": [],
   "source": [
    "# Drop useless columns\n",
    "\n",
    "ewaste = ewaste.drop([\"stratum\"], axis=1)"
   ]
  },
  {
   "cell_type": "code",
   "execution_count": 6,
   "metadata": {},
   "outputs": [
    {
     "data": {
      "text/plain": [
       "country           object\n",
       "eee_key            int64\n",
       "year               int64\n",
       "ewaste_t         float64\n",
       "ewaste_pieces      int64\n",
       "inhabitants      float64\n",
       "ewaste_kpi       float64\n",
       "ewaste_ppi       float64\n",
       "dtype: object"
      ]
     },
     "execution_count": 6,
     "metadata": {},
     "output_type": "execute_result"
    }
   ],
   "source": [
    "ewaste.dtypes"
   ]
  },
  {
   "cell_type": "code",
   "execution_count": 7,
   "metadata": {},
   "outputs": [],
   "source": [
    "# Transform unu_key and year to string object\n",
    "\n",
    "ewaste[\"eee_key\"] = ewaste[\"eee_key\"].astype(str)\n",
    "ewaste[\"year\"] = ewaste[\"year\"].astype(str)"
   ]
  },
  {
   "cell_type": "code",
   "execution_count": 8,
   "metadata": {},
   "outputs": [
    {
     "data": {
      "text/plain": [
       "country           object\n",
       "eee_key           object\n",
       "year              object\n",
       "ewaste_t         float64\n",
       "ewaste_pieces      int64\n",
       "inhabitants      float64\n",
       "ewaste_kpi       float64\n",
       "ewaste_ppi       float64\n",
       "dtype: object"
      ]
     },
     "execution_count": 8,
     "metadata": {},
     "output_type": "execute_result"
    }
   ],
   "source": [
    "ewaste.dtypes"
   ]
  },
  {
   "cell_type": "code",
   "execution_count": 9,
   "metadata": {},
   "outputs": [
    {
     "data": {
      "text/plain": [
       "country              0\n",
       "eee_key              0\n",
       "year                 0\n",
       "ewaste_t             0\n",
       "ewaste_pieces        0\n",
       "inhabitants      10584\n",
       "ewaste_kpi       10584\n",
       "ewaste_ppi       10584\n",
       "dtype: int64"
      ]
     },
     "execution_count": 9,
     "metadata": {},
     "output_type": "execute_result"
    }
   ],
   "source": [
    "# Check for missing values\n",
    "\n",
    "ewaste.isnull().sum()"
   ]
  },
  {
   "cell_type": "code",
   "execution_count": 10,
   "metadata": {},
   "outputs": [],
   "source": [
    "# there are 10584 missing values in inhabitants, kpi and ppi"
   ]
  },
  {
   "cell_type": "code",
   "execution_count": 11,
   "metadata": {},
   "outputs": [
    {
     "data": {
      "text/plain": [
       "2026    1512\n",
       "2022    1512\n",
       "2028    1512\n",
       "2027    1512\n",
       "2024    1512\n",
       "2023    1512\n",
       "2025    1512\n",
       "Name: year, dtype: int64"
      ]
     },
     "execution_count": 11,
     "metadata": {},
     "output_type": "execute_result"
    }
   ],
   "source": [
    "ewaste[ewaste[\"inhabitants\"].isnull()][\"year\"].value_counts()"
   ]
  },
  {
   "cell_type": "code",
   "execution_count": 12,
   "metadata": {},
   "outputs": [],
   "source": [
    "# checking the data, we can see that population estimates from 2022 on \n",
    "# are not available"
   ]
  },
  {
   "cell_type": "code",
   "execution_count": 13,
   "metadata": {},
   "outputs": [
    {
     "data": {
      "text/plain": [
       "28"
      ]
     },
     "execution_count": 13,
     "metadata": {},
     "output_type": "execute_result"
    }
   ],
   "source": [
    "ewaste[\"country\"].nunique()"
   ]
  },
  {
   "cell_type": "code",
   "execution_count": 14,
   "metadata": {},
   "outputs": [],
   "source": [
    "# There are 28 countries, which are the countries of the EU"
   ]
  },
  {
   "cell_type": "code",
   "execution_count": 15,
   "metadata": {},
   "outputs": [
    {
     "data": {
      "text/plain": [
       "CZE    2646\n",
       "IRL    2646\n",
       "ITA    2646\n",
       "LTU    2646\n",
       "FRA    2646\n",
       "SWE    2646\n",
       "EST    2646\n",
       "NLD    2646\n",
       "HRV    2646\n",
       "BGR    2646\n",
       "SVN    2646\n",
       "PRT    2646\n",
       "MLT    2646\n",
       "DEU    2646\n",
       "BEL    2646\n",
       "LVA    2646\n",
       "HUN    2646\n",
       "ROU    2646\n",
       "CYP    2646\n",
       "SVK    2646\n",
       "AUT    2646\n",
       "GBR    2646\n",
       "DNK    2646\n",
       "FIN    2646\n",
       "LUX    2646\n",
       "POL    2646\n",
       "ESP    2646\n",
       "GRC    2646\n",
       "Name: country, dtype: int64"
      ]
     },
     "execution_count": 15,
     "metadata": {},
     "output_type": "execute_result"
    }
   ],
   "source": [
    "# Verify the data for each country\n",
    "\n",
    "pd.Series(ewaste[\"country\"]).value_counts()"
   ]
  },
  {
   "cell_type": "code",
   "execution_count": 16,
   "metadata": {},
   "outputs": [
    {
     "data": {
      "text/html": [
       "<div>\n",
       "<style scoped>\n",
       "    .dataframe tbody tr th:only-of-type {\n",
       "        vertical-align: middle;\n",
       "    }\n",
       "\n",
       "    .dataframe tbody tr th {\n",
       "        vertical-align: top;\n",
       "    }\n",
       "\n",
       "    .dataframe thead th {\n",
       "        text-align: right;\n",
       "    }\n",
       "</style>\n",
       "<table border=\"1\" class=\"dataframe\">\n",
       "  <thead>\n",
       "    <tr style=\"text-align: right;\">\n",
       "      <th></th>\n",
       "      <th>country</th>\n",
       "      <th>eee_key</th>\n",
       "      <th>year</th>\n",
       "      <th>ewaste_t</th>\n",
       "      <th>ewaste_pieces</th>\n",
       "      <th>inhabitants</th>\n",
       "      <th>ewaste_kpi</th>\n",
       "      <th>ewaste_ppi</th>\n",
       "    </tr>\n",
       "  </thead>\n",
       "  <tbody>\n",
       "    <tr>\n",
       "      <th>0</th>\n",
       "      <td>AUT</td>\n",
       "      <td>1</td>\n",
       "      <td>1980</td>\n",
       "      <td>13.658216</td>\n",
       "      <td>443</td>\n",
       "      <td>7540000.0</td>\n",
       "      <td>0.001811</td>\n",
       "      <td>0.000059</td>\n",
       "    </tr>\n",
       "    <tr>\n",
       "      <th>1</th>\n",
       "      <td>AUT</td>\n",
       "      <td>1</td>\n",
       "      <td>1981</td>\n",
       "      <td>54.909780</td>\n",
       "      <td>1780</td>\n",
       "      <td>7556000.0</td>\n",
       "      <td>0.007267</td>\n",
       "      <td>0.000236</td>\n",
       "    </tr>\n",
       "    <tr>\n",
       "      <th>2</th>\n",
       "      <td>AUT</td>\n",
       "      <td>1</td>\n",
       "      <td>1982</td>\n",
       "      <td>123.893263</td>\n",
       "      <td>4017</td>\n",
       "      <td>7565000.0</td>\n",
       "      <td>0.016377</td>\n",
       "      <td>0.000531</td>\n",
       "    </tr>\n",
       "    <tr>\n",
       "      <th>3</th>\n",
       "      <td>AUT</td>\n",
       "      <td>1</td>\n",
       "      <td>1983</td>\n",
       "      <td>219.884724</td>\n",
       "      <td>7127</td>\n",
       "      <td>7543000.0</td>\n",
       "      <td>0.029151</td>\n",
       "      <td>0.000945</td>\n",
       "    </tr>\n",
       "    <tr>\n",
       "      <th>4</th>\n",
       "      <td>AUT</td>\n",
       "      <td>1</td>\n",
       "      <td>1984</td>\n",
       "      <td>341.413262</td>\n",
       "      <td>11067</td>\n",
       "      <td>7544000.0</td>\n",
       "      <td>0.045256</td>\n",
       "      <td>0.001467</td>\n",
       "    </tr>\n",
       "  </tbody>\n",
       "</table>\n",
       "</div>"
      ],
      "text/plain": [
       "  country eee_key  year    ewaste_t  ewaste_pieces  inhabitants  ewaste_kpi  \\\n",
       "0     AUT       1  1980   13.658216            443    7540000.0    0.001811   \n",
       "1     AUT       1  1981   54.909780           1780    7556000.0    0.007267   \n",
       "2     AUT       1  1982  123.893263           4017    7565000.0    0.016377   \n",
       "3     AUT       1  1983  219.884724           7127    7543000.0    0.029151   \n",
       "4     AUT       1  1984  341.413262          11067    7544000.0    0.045256   \n",
       "\n",
       "   ewaste_ppi  \n",
       "0    0.000059  \n",
       "1    0.000236  \n",
       "2    0.000531  \n",
       "3    0.000945  \n",
       "4    0.001467  "
      ]
     },
     "execution_count": 16,
     "metadata": {},
     "output_type": "execute_result"
    }
   ],
   "source": [
    "ewaste.head()"
   ]
  },
  {
   "cell_type": "code",
   "execution_count": 17,
   "metadata": {},
   "outputs": [],
   "source": [
    "# Save the data frame to a csv file\n",
    "\n",
    "ewaste.to_csv(\"../Data/clean_data/2_ewaste_generation.csv\", index=False)"
   ]
  },
  {
   "cell_type": "markdown",
   "metadata": {},
   "source": [
    "#### 2. Extra data: ewaste worldwide from 2000 to 2021 \n",
    "\n",
    "Total values only. btained from Kees Balde @ United Nations University."
   ]
  },
  {
   "cell_type": "code",
   "execution_count": null,
   "metadata": {},
   "outputs": [],
   "source": [
    "# Import raw data\n",
    "\n",
    "ewaste_world = pd.read_csv(\"../data/raw/3_extra_ewaste_world.csv\")"
   ]
  },
  {
   "cell_type": "code",
   "execution_count": null,
   "metadata": {},
   "outputs": [],
   "source": [
    "ewaste_world.head()"
   ]
  },
  {
   "cell_type": "code",
   "execution_count": null,
   "metadata": {},
   "outputs": [],
   "source": [
    "ewaste_world.isnull().sum()"
   ]
  },
  {
   "cell_type": "code",
   "execution_count": null,
   "metadata": {},
   "outputs": [],
   "source": [
    "ewaste_world.dtypes"
   ]
  },
  {
   "cell_type": "code",
   "execution_count": null,
   "metadata": {},
   "outputs": [],
   "source": [
    "ewaste_world[\"year\"] = ewaste_world[\"year\"].astype(str)"
   ]
  },
  {
   "cell_type": "code",
   "execution_count": null,
   "metadata": {},
   "outputs": [],
   "source": [
    "ewaste_world.nunique()"
   ]
  },
  {
   "cell_type": "code",
   "execution_count": null,
   "metadata": {},
   "outputs": [],
   "source": [
    "# Save the data frame to a csv file\n",
    "\n",
    "ewaste_world.to_csv(\"../Data/clean_data/3_ewaste_world_generation.csv\", index=False)"
   ]
  }
 ],
 "metadata": {
  "kernelspec": {
   "display_name": "Python 3",
   "language": "python",
   "name": "python3"
  },
  "language_info": {
   "codemirror_mode": {
    "name": "ipython",
    "version": 3
   },
   "file_extension": ".py",
   "mimetype": "text/x-python",
   "name": "python",
   "nbconvert_exporter": "python",
   "pygments_lexer": "ipython3",
   "version": "3.8.2"
  }
 },
 "nbformat": 4,
 "nbformat_minor": 4
}
