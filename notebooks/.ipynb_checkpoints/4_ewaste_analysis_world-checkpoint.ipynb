{
 "cells": [
  {
   "cell_type": "code",
   "execution_count": 1,
   "metadata": {},
   "outputs": [],
   "source": [
    "import pandas as pd\n",
    "import numpy as np\n",
    "import pymysql\n",
    "import getpass\n",
    "import matplotlib\n",
    "import matplotlib.pyplot as plt\n",
    "import mysql_connection as mc\n",
    "%matplotlib inline"
   ]
  },
  {
   "cell_type": "code",
   "execution_count": 2,
   "metadata": {},
   "outputs": [
    {
     "name": "stdout",
     "output_type": "stream",
     "text": [
      "Please insert your password: ········\n"
     ]
    }
   ],
   "source": [
    "conn = mc.connect()"
   ]
  },
  {
   "cell_type": "markdown",
   "metadata": {},
   "source": [
    "### 1. Analysis of e-waste generation in the world"
   ]
  },
  {
   "cell_type": "code",
   "execution_count": null,
   "metadata": {},
   "outputs": [],
   "source": [
    "# Total e-waste generated per country (in kt) from 2000 to 2020\n",
    "\n",
    "ewaste_world_query = \"\"\"\n",
    "SELECT *\n",
    "FROM 7_ewaste_world_generation ewg\n",
    "    INNER JOIN 6_countries co\n",
    "    ON ewg.country = co.country\n",
    "WHERE ewg.year >= 2000\n",
    "    AND ewg.year <= 2020\n",
    "\"\"\""
   ]
  },
  {
   "cell_type": "code",
   "execution_count": null,
   "metadata": {},
   "outputs": [],
   "source": [
    "ewaste_world = pd.read_sql(ewaste_world_query, conn)"
   ]
  },
  {
   "cell_type": "code",
   "execution_count": null,
   "metadata": {},
   "outputs": [],
   "source": [
    "ewaste_world.head()"
   ]
  },
  {
   "cell_type": "code",
   "execution_count": null,
   "metadata": {},
   "outputs": [],
   "source": [
    "ewaste_world.isnull().sum()"
   ]
  },
  {
   "cell_type": "code",
   "execution_count": null,
   "metadata": {},
   "outputs": [],
   "source": [
    "# Create a column of e-waste generated in million tonnes \n",
    "\n",
    "ewaste_world[\"ewaste_mt\"] = ewaste_world[\"ewaste_kt\"] / 1000\n",
    "\n",
    "# Create a column with e-waste equivalent to Eiffel Towers\n",
    "\n",
    "eiffel_tower = 10100\n",
    "ewaste_world[\"ewaste_eff\"] = ewaste_world[\"ewaste_mt\"] * 1000000 / eiffel_tower"
   ]
  },
  {
   "cell_type": "code",
   "execution_count": null,
   "metadata": {},
   "outputs": [],
   "source": [
    "ewaste_world.head()"
   ]
  },
  {
   "cell_type": "code",
   "execution_count": null,
   "metadata": {},
   "outputs": [],
   "source": [
    "# Let's look at the e-waste generated in the world per year\n",
    "\n",
    "year_mt = (ewaste_world.groupby(\"year\").agg({\"ewaste_mt\": \"sum\", \"ewaste_eff\": \"sum\"}).reset_index())"
   ]
  },
  {
   "cell_type": "code",
   "execution_count": null,
   "metadata": {},
   "outputs": [],
   "source": [
    "year_mt"
   ]
  },
  {
   "cell_type": "code",
   "execution_count": null,
   "metadata": {},
   "outputs": [],
   "source": [
    "# Let's look at the e-waste equivalent to Eiffel Towers generated in a single year\n",
    "\n",
    "def e_waste_equiv_et(year):\n",
    "    print(\"In \" + str(year) + \", \" + str(year_mt.loc[year_mt[\"year\"] == year][\"ewaste_mt\"].iloc[0]) \n",
    "          + \" tonnes of e-waste was generated. This is equivalent to \" \n",
    "          + str(year_mt.loc[year_mt[\"year\"] == year][\"ewaste_eff\"].iloc[0]) + \" Eiffel Towers!\")"
   ]
  },
  {
   "cell_type": "code",
   "execution_count": null,
   "metadata": {},
   "outputs": [],
   "source": [
    "e_waste_equiv_et(2000)\n",
    "e_waste_equiv_et(2020)"
   ]
  },
  {
   "cell_type": "code",
   "execution_count": null,
   "metadata": {},
   "outputs": [],
   "source": [
    "# Plot e-waste generation in the world in the last 20 years\n",
    "\n",
    "fig, ax = plt.subplots(figsize=(10,6))\n",
    "\n",
    "ax.plot(year_mt[\"year\"],\n",
    "        year_mt[\"ewaste_mt\"],\n",
    "        color=\"g\");\n",
    "ax.set_title(\"Generation of e-waste in the world in the last 20 years\");\n",
    "ax.spines[\"top\"].set_visible(False);\n",
    "ax.spines[\"right\"].set_visible(False);"
   ]
  },
  {
   "cell_type": "code",
   "execution_count": null,
   "metadata": {},
   "outputs": [],
   "source": [
    "# Let's look at the waste generated in the EU only\n",
    "\n",
    "year_mt_eu = (ewaste_world\n",
    "              .loc[ewaste_world[\"region\"] == \"Europe\"]\n",
    "              .groupby(\"year\")\n",
    "              .agg({\"ewaste_mt\": \"sum\", \"ewaste_eff\": \"sum\"})\n",
    "              .reset_index())"
   ]
  },
  {
   "cell_type": "code",
   "execution_count": null,
   "metadata": {},
   "outputs": [],
   "source": [
    "year_mt_eu"
   ]
  },
  {
   "cell_type": "code",
   "execution_count": null,
   "metadata": {},
   "outputs": [],
   "source": [
    "# Plot e-waste generation in the EU in the last 20 years\n",
    "\n",
    "fig, ax = plt.subplots(figsize=(10,6))\n",
    "\n",
    "ax.plot(year_mt_eu[\"year\"],\n",
    "        year_mt_eu[\"ewaste_mt\"],\n",
    "        color=\"g\");\n",
    "ax.set_title(\"Generation of e-waste in the EU in the last 20 years\");\n",
    "ax.spines[\"top\"].set_visible(False);\n",
    "ax.spines[\"right\"].set_visible(False);"
   ]
  },
  {
   "cell_type": "code",
   "execution_count": null,
   "metadata": {},
   "outputs": [],
   "source": [
    "# Let's look at the waste generated in the EU only\n",
    "\n",
    "year_mt_other = (ewaste_world\n",
    "              .loc[ewaste_world[\"region\"] == \"Other\"]\n",
    "              .groupby(\"year\")\n",
    "              .agg({\"ewaste_mt\": \"sum\", \"ewaste_eff\": \"sum\"})\n",
    "              .reset_index())"
   ]
  },
  {
   "cell_type": "code",
   "execution_count": null,
   "metadata": {},
   "outputs": [],
   "source": [
    "year_mt_other"
   ]
  },
  {
   "cell_type": "code",
   "execution_count": null,
   "metadata": {},
   "outputs": [],
   "source": [
    "# Plot e-waste generation in the \"Other\" regions in the last 20 years\n",
    "\n",
    "fig, ax = plt.subplots(figsize=(10,6))\n",
    "\n",
    "ax.plot(year_mt_other[\"year\"],\n",
    "        year_mt_other[\"ewaste_mt\"],\n",
    "        color=\"g\");\n",
    "ax.set_title(\"Generation of e-waste in the rest of the world in the last 20 years\");\n",
    "ax.spines[\"top\"].set_visible(False);\n",
    "ax.spines[\"right\"].set_visible(False);"
   ]
  },
  {
   "cell_type": "code",
   "execution_count": null,
   "metadata": {},
   "outputs": [],
   "source": [
    "# It seems there is a mismatch in the trend for 2016, as an abrupt decrease is observed for the EU \n",
    "# and a sudden increase for the rest of the world"
   ]
  },
  {
   "cell_type": "code",
   "execution_count": null,
   "metadata": {},
   "outputs": [],
   "source": [
    "# Let's check the values for the EU countries"
   ]
  },
  {
   "cell_type": "code",
   "execution_count": null,
   "metadata": {},
   "outputs": [],
   "source": [
    "trends_eu = (ewaste_world\n",
    "              .loc[ewaste_world[\"region\"] == \"Europe\"])"
   ]
  },
  {
   "cell_type": "code",
   "execution_count": null,
   "metadata": {},
   "outputs": [],
   "source": [
    "trends_eu.head()"
   ]
  },
  {
   "cell_type": "code",
   "execution_count": null,
   "metadata": {},
   "outputs": [],
   "source": []
  },
  {
   "cell_type": "code",
   "execution_count": null,
   "metadata": {},
   "outputs": [],
   "source": [
    "# Plot e-waste generation in the each EU country in the last 20 years\n",
    "# Try different countries by changing the country name\n",
    "\n",
    "country = trends_eu.loc[trends_eu[\"country_name\"] == \"Finland\"]\n",
    "\n",
    "fig, ax = plt.subplots(figsize=(10,6))\n",
    "\n",
    "ax.plot(country[\"year\"],\n",
    "        country[\"ewaste_mt\"],\n",
    "        color=\"g\");\n",
    "ax.set_title(\"Generation of e-waste in *country* in the last 20 years\");\n",
    "ax.spines[\"top\"].set_visible(False);\n",
    "ax.spines[\"right\"].set_visible(False);"
   ]
  },
  {
   "cell_type": "code",
   "execution_count": null,
   "metadata": {},
   "outputs": [],
   "source": [
    "# The abrupt decrease is observed for all the countries. "
   ]
  },
  {
   "cell_type": "code",
   "execution_count": null,
   "metadata": {},
   "outputs": [],
   "source": [
    "# Let's check for other countries in the world"
   ]
  },
  {
   "cell_type": "code",
   "execution_count": null,
   "metadata": {},
   "outputs": [],
   "source": [
    "trends_other = (ewaste_world\n",
    "                .loc[ewaste_world[\"region\"] == \"Other\"])"
   ]
  },
  {
   "cell_type": "code",
   "execution_count": null,
   "metadata": {},
   "outputs": [],
   "source": [
    "trends_other.head()"
   ]
  },
  {
   "cell_type": "code",
   "execution_count": null,
   "metadata": {},
   "outputs": [],
   "source": [
    "fig, ax = plt.subplots(figsize=(10,6))\n",
    "\n",
    "other_country = trends_other.loc[trends_other[\"country_name\"] == \"China\"]\n",
    "\n",
    "ax.plot(other_country[\"year\"],\n",
    "        other_country[\"ewaste_mt\"],\n",
    "        color=\"g\");\n",
    "ax.set_title(\"Generation of e-waste in *other_country* in the last 20 years\");\n",
    "ax.spines[\"top\"].set_visible(False);\n",
    "ax.spines[\"right\"].set_visible(False);"
   ]
  },
  {
   "cell_type": "code",
   "execution_count": null,
   "metadata": {},
   "outputs": [],
   "source": [
    "# Each other country has mismatches"
   ]
  },
  {
   "cell_type": "code",
   "execution_count": null,
   "metadata": {},
   "outputs": [],
   "source": [
    "# Let's check amount of e-waste generated per capita\n",
    "\n",
    "fig, ax = plt.subplots(figsize=(10,6))\n",
    "\n",
    "other_country = trends_other.loc[trends_other[\"country_name\"] == \"China\"]\n",
    "\n",
    "ax.plot(other_country[\"year\"],\n",
    "        other_country[\"ewaste_kpi\"],\n",
    "        color=\"g\");\n",
    "ax.set_title(\"Generation of e-waste per capita in *other_country* in the last 20 years\");\n",
    "ax.spines[\"top\"].set_visible(False);\n",
    "ax.spines[\"right\"].set_visible(False);"
   ]
  },
  {
   "cell_type": "code",
   "execution_count": null,
   "metadata": {},
   "outputs": [],
   "source": []
  },
  {
   "cell_type": "code",
   "execution_count": null,
   "metadata": {},
   "outputs": [],
   "source": []
  },
  {
   "cell_type": "code",
   "execution_count": 5,
   "metadata": {},
   "outputs": [],
   "source": [
    "ewaste_all_data = \"\"\"\n",
    "SELECT *\n",
    "FROM 7_ewaste_world_generation ewg\n",
    "    INNER JOIN 6_countries co\n",
    "    ON ewg.country = co.country\n",
    "    INNER JOIN 4_gdp_total_countries gdpc\n",
    "    ON ewg.country = gdpc.country\n",
    "    INNER JOIN 5_gdp_per_capita gdppc\n",
    "    ON ewg.country = gdppc.country\n",
    "WHERE ewg.year >= 2000\n",
    "    AND ewg.year <= 2020\n",
    "\"\"\""
   ]
  },
  {
   "cell_type": "code",
   "execution_count": 6,
   "metadata": {},
   "outputs": [],
   "source": [
    "ewaste_all = pd.read_sql(ewaste_all_data, conn)"
   ]
  },
  {
   "cell_type": "code",
   "execution_count": 7,
   "metadata": {},
   "outputs": [
    {
     "data": {
      "text/html": [
       "<div>\n",
       "<style scoped>\n",
       "    .dataframe tbody tr th:only-of-type {\n",
       "        vertical-align: middle;\n",
       "    }\n",
       "\n",
       "    .dataframe tbody tr th {\n",
       "        vertical-align: top;\n",
       "    }\n",
       "\n",
       "    .dataframe thead th {\n",
       "        text-align: right;\n",
       "    }\n",
       "</style>\n",
       "<table border=\"1\" class=\"dataframe\">\n",
       "  <thead>\n",
       "    <tr style=\"text-align: right;\">\n",
       "      <th></th>\n",
       "      <th>country</th>\n",
       "      <th>year</th>\n",
       "      <th>ewaste_kpi</th>\n",
       "      <th>ewaste_kt</th>\n",
       "      <th>ewaste_t</th>\n",
       "      <th>country</th>\n",
       "      <th>income_group</th>\n",
       "      <th>country_name</th>\n",
       "      <th>region</th>\n",
       "      <th>country_name</th>\n",
       "      <th>country</th>\n",
       "      <th>year</th>\n",
       "      <th>gdp</th>\n",
       "      <th>country_name</th>\n",
       "      <th>country</th>\n",
       "      <th>year</th>\n",
       "      <th>gdp_pc</th>\n",
       "    </tr>\n",
       "  </thead>\n",
       "  <tbody>\n",
       "    <tr>\n",
       "      <th>0</th>\n",
       "      <td>AFG</td>\n",
       "      <td>2000</td>\n",
       "      <td>0.101444</td>\n",
       "      <td>2.196450</td>\n",
       "      <td>2196.449617</td>\n",
       "      <td>AFG</td>\n",
       "      <td>Low income</td>\n",
       "      <td>Afghanistan</td>\n",
       "      <td>Other</td>\n",
       "      <td>Afghanistan</td>\n",
       "      <td>AFG</td>\n",
       "      <td>1960</td>\n",
       "      <td>5.377778e+08</td>\n",
       "      <td>Afghanistan</td>\n",
       "      <td>AFG</td>\n",
       "      <td>1960</td>\n",
       "      <td>59.77319384</td>\n",
       "    </tr>\n",
       "    <tr>\n",
       "      <th>1</th>\n",
       "      <td>AFG</td>\n",
       "      <td>2001</td>\n",
       "      <td>0.107795</td>\n",
       "      <td>2.363583</td>\n",
       "      <td>2363.583482</td>\n",
       "      <td>AFG</td>\n",
       "      <td>Low income</td>\n",
       "      <td>Afghanistan</td>\n",
       "      <td>Other</td>\n",
       "      <td>Afghanistan</td>\n",
       "      <td>AFG</td>\n",
       "      <td>1960</td>\n",
       "      <td>5.377778e+08</td>\n",
       "      <td>Afghanistan</td>\n",
       "      <td>AFG</td>\n",
       "      <td>1960</td>\n",
       "      <td>59.77319384</td>\n",
       "    </tr>\n",
       "    <tr>\n",
       "      <th>2</th>\n",
       "      <td>AFG</td>\n",
       "      <td>2002</td>\n",
       "      <td>0.115334</td>\n",
       "      <td>2.560754</td>\n",
       "      <td>2560.753553</td>\n",
       "      <td>AFG</td>\n",
       "      <td>Low income</td>\n",
       "      <td>Afghanistan</td>\n",
       "      <td>Other</td>\n",
       "      <td>Afghanistan</td>\n",
       "      <td>AFG</td>\n",
       "      <td>1960</td>\n",
       "      <td>5.377778e+08</td>\n",
       "      <td>Afghanistan</td>\n",
       "      <td>AFG</td>\n",
       "      <td>1960</td>\n",
       "      <td>59.77319384</td>\n",
       "    </tr>\n",
       "    <tr>\n",
       "      <th>3</th>\n",
       "      <td>AFG</td>\n",
       "      <td>2003</td>\n",
       "      <td>0.122107</td>\n",
       "      <td>2.822622</td>\n",
       "      <td>2822.622211</td>\n",
       "      <td>AFG</td>\n",
       "      <td>Low income</td>\n",
       "      <td>Afghanistan</td>\n",
       "      <td>Other</td>\n",
       "      <td>Afghanistan</td>\n",
       "      <td>AFG</td>\n",
       "      <td>1960</td>\n",
       "      <td>5.377778e+08</td>\n",
       "      <td>Afghanistan</td>\n",
       "      <td>AFG</td>\n",
       "      <td>1960</td>\n",
       "      <td>59.77319384</td>\n",
       "    </tr>\n",
       "    <tr>\n",
       "      <th>4</th>\n",
       "      <td>AFG</td>\n",
       "      <td>2004</td>\n",
       "      <td>0.131616</td>\n",
       "      <td>3.161278</td>\n",
       "      <td>3161.278039</td>\n",
       "      <td>AFG</td>\n",
       "      <td>Low income</td>\n",
       "      <td>Afghanistan</td>\n",
       "      <td>Other</td>\n",
       "      <td>Afghanistan</td>\n",
       "      <td>AFG</td>\n",
       "      <td>1960</td>\n",
       "      <td>5.377778e+08</td>\n",
       "      <td>Afghanistan</td>\n",
       "      <td>AFG</td>\n",
       "      <td>1960</td>\n",
       "      <td>59.77319384</td>\n",
       "    </tr>\n",
       "    <tr>\n",
       "      <th>...</th>\n",
       "      <td>...</td>\n",
       "      <td>...</td>\n",
       "      <td>...</td>\n",
       "      <td>...</td>\n",
       "      <td>...</td>\n",
       "      <td>...</td>\n",
       "      <td>...</td>\n",
       "      <td>...</td>\n",
       "      <td>...</td>\n",
       "      <td>...</td>\n",
       "      <td>...</td>\n",
       "      <td>...</td>\n",
       "      <td>...</td>\n",
       "      <td>...</td>\n",
       "      <td>...</td>\n",
       "      <td>...</td>\n",
       "      <td>...</td>\n",
       "    </tr>\n",
       "    <tr>\n",
       "      <th>10820875</th>\n",
       "      <td>VNM</td>\n",
       "      <td>2016</td>\n",
       "      <td>1.519076</td>\n",
       "      <td>407.379120</td>\n",
       "      <td>407379.119800</td>\n",
       "      <td>VNM</td>\n",
       "      <td>Lower middle income</td>\n",
       "      <td>Vietnam</td>\n",
       "      <td>Other</td>\n",
       "      <td>Vietnam</td>\n",
       "      <td>VNM</td>\n",
       "      <td>2018</td>\n",
       "      <td>2.450000e+11</td>\n",
       "      <td>Vietnam</td>\n",
       "      <td>VNM</td>\n",
       "      <td>2019</td>\n",
       "      <td></td>\n",
       "    </tr>\n",
       "    <tr>\n",
       "      <th>10820876</th>\n",
       "      <td>VNM</td>\n",
       "      <td>2017</td>\n",
       "      <td>1.587793</td>\n",
       "      <td>148.628576</td>\n",
       "      <td>148628.575700</td>\n",
       "      <td>VNM</td>\n",
       "      <td>Lower middle income</td>\n",
       "      <td>Vietnam</td>\n",
       "      <td>Other</td>\n",
       "      <td>Vietnam</td>\n",
       "      <td>VNM</td>\n",
       "      <td>2018</td>\n",
       "      <td>2.450000e+11</td>\n",
       "      <td>Vietnam</td>\n",
       "      <td>VNM</td>\n",
       "      <td>2019</td>\n",
       "      <td></td>\n",
       "    </tr>\n",
       "    <tr>\n",
       "      <th>10820877</th>\n",
       "      <td>VNM</td>\n",
       "      <td>2018</td>\n",
       "      <td>1.659431</td>\n",
       "      <td>156.960614</td>\n",
       "      <td>156960.613900</td>\n",
       "      <td>VNM</td>\n",
       "      <td>Lower middle income</td>\n",
       "      <td>Vietnam</td>\n",
       "      <td>Other</td>\n",
       "      <td>Vietnam</td>\n",
       "      <td>VNM</td>\n",
       "      <td>2018</td>\n",
       "      <td>2.450000e+11</td>\n",
       "      <td>Vietnam</td>\n",
       "      <td>VNM</td>\n",
       "      <td>2019</td>\n",
       "      <td></td>\n",
       "    </tr>\n",
       "    <tr>\n",
       "      <th>10820878</th>\n",
       "      <td>VNM</td>\n",
       "      <td>2019</td>\n",
       "      <td>1.734046</td>\n",
       "      <td>165.734886</td>\n",
       "      <td>165734.886100</td>\n",
       "      <td>VNM</td>\n",
       "      <td>Lower middle income</td>\n",
       "      <td>Vietnam</td>\n",
       "      <td>Other</td>\n",
       "      <td>Vietnam</td>\n",
       "      <td>VNM</td>\n",
       "      <td>2018</td>\n",
       "      <td>2.450000e+11</td>\n",
       "      <td>Vietnam</td>\n",
       "      <td>VNM</td>\n",
       "      <td>2019</td>\n",
       "      <td></td>\n",
       "    </tr>\n",
       "    <tr>\n",
       "      <th>10820879</th>\n",
       "      <td>VNM</td>\n",
       "      <td>2020</td>\n",
       "      <td>1.812053</td>\n",
       "      <td>175.002597</td>\n",
       "      <td>175002.597300</td>\n",
       "      <td>VNM</td>\n",
       "      <td>Lower middle income</td>\n",
       "      <td>Vietnam</td>\n",
       "      <td>Other</td>\n",
       "      <td>Vietnam</td>\n",
       "      <td>VNM</td>\n",
       "      <td>2018</td>\n",
       "      <td>2.450000e+11</td>\n",
       "      <td>Vietnam</td>\n",
       "      <td>VNM</td>\n",
       "      <td>2019</td>\n",
       "      <td></td>\n",
       "    </tr>\n",
       "  </tbody>\n",
       "</table>\n",
       "<p>10820880 rows × 17 columns</p>\n",
       "</div>"
      ],
      "text/plain": [
       "         country  year  ewaste_kpi   ewaste_kt       ewaste_t country  \\\n",
       "0            AFG  2000    0.101444    2.196450    2196.449617     AFG   \n",
       "1            AFG  2001    0.107795    2.363583    2363.583482     AFG   \n",
       "2            AFG  2002    0.115334    2.560754    2560.753553     AFG   \n",
       "3            AFG  2003    0.122107    2.822622    2822.622211     AFG   \n",
       "4            AFG  2004    0.131616    3.161278    3161.278039     AFG   \n",
       "...          ...   ...         ...         ...            ...     ...   \n",
       "10820875     VNM  2016    1.519076  407.379120  407379.119800     VNM   \n",
       "10820876     VNM  2017    1.587793  148.628576  148628.575700     VNM   \n",
       "10820877     VNM  2018    1.659431  156.960614  156960.613900     VNM   \n",
       "10820878     VNM  2019    1.734046  165.734886  165734.886100     VNM   \n",
       "10820879     VNM  2020    1.812053  175.002597  175002.597300     VNM   \n",
       "\n",
       "                 income_group country_name region country_name country  year  \\\n",
       "0                  Low income  Afghanistan  Other  Afghanistan     AFG  1960   \n",
       "1                  Low income  Afghanistan  Other  Afghanistan     AFG  1960   \n",
       "2                  Low income  Afghanistan  Other  Afghanistan     AFG  1960   \n",
       "3                  Low income  Afghanistan  Other  Afghanistan     AFG  1960   \n",
       "4                  Low income  Afghanistan  Other  Afghanistan     AFG  1960   \n",
       "...                       ...          ...    ...          ...     ...   ...   \n",
       "10820875  Lower middle income      Vietnam  Other      Vietnam     VNM  2018   \n",
       "10820876  Lower middle income      Vietnam  Other      Vietnam     VNM  2018   \n",
       "10820877  Lower middle income      Vietnam  Other      Vietnam     VNM  2018   \n",
       "10820878  Lower middle income      Vietnam  Other      Vietnam     VNM  2018   \n",
       "10820879  Lower middle income      Vietnam  Other      Vietnam     VNM  2018   \n",
       "\n",
       "                   gdp country_name country  year       gdp_pc  \n",
       "0         5.377778e+08  Afghanistan     AFG  1960  59.77319384  \n",
       "1         5.377778e+08  Afghanistan     AFG  1960  59.77319384  \n",
       "2         5.377778e+08  Afghanistan     AFG  1960  59.77319384  \n",
       "3         5.377778e+08  Afghanistan     AFG  1960  59.77319384  \n",
       "4         5.377778e+08  Afghanistan     AFG  1960  59.77319384  \n",
       "...                ...          ...     ...   ...          ...  \n",
       "10820875  2.450000e+11      Vietnam     VNM  2019               \n",
       "10820876  2.450000e+11      Vietnam     VNM  2019               \n",
       "10820877  2.450000e+11      Vietnam     VNM  2019               \n",
       "10820878  2.450000e+11      Vietnam     VNM  2019               \n",
       "10820879  2.450000e+11      Vietnam     VNM  2019               \n",
       "\n",
       "[10820880 rows x 17 columns]"
      ]
     },
     "execution_count": 7,
     "metadata": {},
     "output_type": "execute_result"
    }
   ],
   "source": [
    "ewaste_all"
   ]
  },
  {
   "cell_type": "code",
   "execution_count": 8,
   "metadata": {},
   "outputs": [
    {
     "data": {
      "text/plain": [
       "country         0\n",
       "year            0\n",
       "ewaste_kpi      0\n",
       "ewaste_kt       0\n",
       "ewaste_t        0\n",
       "country         0\n",
       "income_group    0\n",
       "country_name    0\n",
       "region          0\n",
       "country_name    0\n",
       "country         0\n",
       "year            0\n",
       "gdp             0\n",
       "country_name    0\n",
       "country         0\n",
       "year            0\n",
       "gdp_pc          0\n",
       "dtype: int64"
      ]
     },
     "execution_count": 8,
     "metadata": {},
     "output_type": "execute_result"
    }
   ],
   "source": [
    "ewaste_all.isnull().sum()"
   ]
  },
  {
   "cell_type": "code",
   "execution_count": null,
   "metadata": {},
   "outputs": [],
   "source": []
  },
  {
   "cell_type": "code",
   "execution_count": null,
   "metadata": {},
   "outputs": [],
   "source": []
  },
  {
   "cell_type": "code",
   "execution_count": null,
   "metadata": {},
   "outputs": [],
   "source": []
  }
 ],
 "metadata": {
  "kernelspec": {
   "display_name": "Python 3",
   "language": "python",
   "name": "python3"
  },
  "language_info": {
   "codemirror_mode": {
    "name": "ipython",
    "version": 3
   },
   "file_extension": ".py",
   "mimetype": "text/x-python",
   "name": "python",
   "nbconvert_exporter": "python",
   "pygments_lexer": "ipython3",
   "version": "3.8.2"
  }
 },
 "nbformat": 4,
 "nbformat_minor": 4
}
